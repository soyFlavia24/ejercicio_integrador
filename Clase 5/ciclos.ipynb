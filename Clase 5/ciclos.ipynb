{
 "cells": [
  {
   "cell_type": "markdown",
   "metadata": {},
   "source": [
    "condicionalew\n",
    "Actividad N° 1\n",
    " 🤓 1. Ingresar dos números por teclado a y b. Si a es mayor que b, imprimir ‘Hola Politécnico Malvinas’ \n",
    " 2. Ingresar dos números por teclado a y b. Si a no es igual a b, imprimir ‘Hola Politécnico Malvinas’ \n",
    " 3. Ingresar dos números por teclado a y b. Si a es igual a b, imprimir ‘son iguales’ sino imprimir ‘son distintos’ \n",
    " 4. Ingresar dos números por teclado a y b. Si a es igual a b, imprimir 1 si a es mayor que b, imprimir 2 sino imprimir 3. \n",
    " 5. Ingrese cuatro números por teclado a, b, c y d. Si a es igual b y c es igual a d, imprimir ‘Hola Politécnico Malvinas’\n",
    "  6. Ingrese cuatro números por teclado a, b, c y d. Si a es igual b ó c es igual a d, imprimir ‘Hola Politécnico Malvinas’ \n",
    "  7. Ingresar la edad de una persona por teclado, mostrar por pantalla si es mayor o menor de edad. 8. Ingresar un número por teclado y mostrar por pantalla si es para o\n",
    "  8. Ingresar un número por teclado y mostrar por pantalla si es para o inpar\n",
    "  9. Ingresar por teclado tres números y mostrar por pantalla el mayor de los tres.\n",
    " 10.Ingresar por teclado un nombre, si la variable nombre, no es nula mostrar por pantalla ‘Bienvenido ‘+ nombre, sino mostrar ‘Bienvenido anónimo’"
   ]
  },
  {
   "cell_type": "code",
   "execution_count": 1,
   "metadata": {},
   "outputs": [
    {
     "name": "stdout",
     "output_type": "stream",
     "text": [
      "puede ingresar al sistema\n"
     ]
    }
   ],
   "source": [
    " # mas simple\n",
    "contraseña_bd =\"gpimentel123\"\n",
    "contraseña_ingresada = \"gpimentel123\"\n",
    "if contraseña_bd == contraseña_ingresada:\n",
    "    print(\"puede ingresar al sistema\")\n",
    "          \n",
    "else:\n",
    "    print(\"contraseñpa incorrecta,intente nuevamente\")"
   ]
  },
  {
   "cell_type": "code",
   "execution_count": 12,
   "metadata": {},
   "outputs": [
    {
     "name": "stdout",
     "output_type": "stream",
     "text": [
      "el ingreso mnsual es equivalente clase media alta \n"
     ]
    }
   ],
   "source": [
    "# usando elif\n",
    "# a la estructura inicial le voy agregando (n) cantidad de preguntas ,puedo usar tantos elif como sean necesarios \n",
    "#  para comletra lam logica\n",
    "ingreso_mensual= 800000\n",
    "if ingreso_mensual<=203000:\n",
    "    print(\"el ingreso mensual,es inferior a la canasta basica\")\n",
    "elif ingreso_mensual > 203000 and ingreso_mensual <= 700000:\n",
    "    print(\"el ingreso mensual es equivalente a la clase media baja\") \n",
    "elif ingreso_mensual > 700000 and ingreso_mensual <=1200000 :\n",
    "    print(\"el ingreso mnsual es equivalente clase media alta \")\n",
    "elif ingreso_mensual > 1200000 and ingreso_mensual<= 2500000 :\n",
    "    print(\"el ingreso mensual es clase media alta y te permite ahorrar\")\n",
    "else :\n",
    "    print(\"el ingreso mensual es de clase alta y te permite viajar\")\n",
    "\n"
   ]
  },
  {
   "cell_type": "code",
   "execution_count": 17,
   "metadata": {},
   "outputs": [
    {
     "name": "stdout",
     "output_type": "stream",
     "text": [
      "Hola Politecnico Malvinas Argentinas\n"
     ]
    }
   ],
   "source": [
    "# Ingreso por teclado\n",
    "# ejercicio \n",
    "# 1.ingrese dos numeros por teclado a y b .si a e mayor que b,imprimir \"Hola Politecnico Malvinas Argentinas\"\n",
    "  \n",
    "\n",
    "numero_a= int(input(\"ingrese el primer numero\"))\n",
    "numero_b= int(input(\"ingrese otro numero\"))\n",
    "if numero_a > numero_b:\n",
    "    print(\"Hola Politecnico Malvinas Argentinas\")\n",
    "\n"
   ]
  },
  {
   "cell_type": "markdown",
   "metadata": {},
   "source": [
    "5 - ingrese cuatro numeros por teclado a.b.c.d. Si a es igual a b y c es igual d,imprimir \"Hola POlitecnico Malvinas\""
   ]
  },
  {
   "cell_type": "code",
   "execution_count": 23,
   "metadata": {},
   "outputs": [],
   "source": [
    "numero_a = int(input(\"ingrese numero a\"))\n",
    "numero_b = int(input(\"ingrese numero b\"))\n",
    "numero_c = int(input(\"ingrese el numero c\"))\n",
    "numero_d = int(input(\"ingrese el numero d\")) \n",
    "if numero_a == numero_b and numero_c == numero_d:\n",
    "         print(\"Hola Malvinas Argentinas\")\n",
    "              "
   ]
  },
  {
   "cell_type": "code",
   "execution_count": null,
   "metadata": {},
   "outputs": [],
   "source": [
    "#6. Ingrese cuatro números por teclado a, b, c y d. Si a es igual b ó c es igual a d, imprimir ‘Hola Politécnico Malvinas’ "
   ]
  },
  {
   "cell_type": "code",
   "execution_count": 33,
   "metadata": {},
   "outputs": [
    {
     "name": "stdout",
     "output_type": "stream",
     "text": [
      "es menor de edad\n"
     ]
    }
   ],
   "source": [
    "#7. Ingresar la edad de una persona por teclado, mostrar por pantalla si es mayor o menor de edad.\n",
    "\n",
    "edad = int(input(\"igrese la edad\"))\n",
    "if edad >= 18:\n",
    "    print(\"es mayor de edad\")\n",
    "elif edad < 18:\n",
    "    print(\"es menor de edad\")"
   ]
  },
  {
   "cell_type": "code",
   "execution_count": 25,
   "metadata": {},
   "outputs": [
    {
     "name": "stdout",
     "output_type": "stream",
     "text": [
      "el numero ingresado es impar\n"
     ]
    }
   ],
   "source": [
    " #8. Ingresar un número por teclado y mostrar por pantalla si es para o inpar\n",
    " \n",
    "\n",
    "numero_ingresado= int(input(\"ingrese el numero\"))\n",
    "if numero_ingresado % 2 == 0:\n",
    "    print(\"el numero ungresado es par\")\n",
    "else:\n",
    "    print(\"el numero ingresado es impar\")\n",
    "\n",
    "\n",
    "    #el operador porcentaje(%)es el mod?"
   ]
  },
  {
   "cell_type": "code",
   "execution_count": 30,
   "metadata": {},
   "outputs": [
    {
     "name": "stdout",
     "output_type": "stream",
     "text": [
      "el 55 es el mayor\n"
     ]
    }
   ],
   "source": [
    "# 9. Ingresar por teclado tres números y mostrar por pantalla el mayor de los tres.\n",
    "\n",
    "numero_a=int(input(\"ingrese el primer numero\"))\n",
    "numero_b=int(input(\"ingrese el segundo numero\"))\n",
    "numero_c=int(input(\"ingrese el tercer numero\"))\n",
    "\n",
    "if numero_a > numero_b and numero_b > numero_c :\n",
    "    print(\"el\",numero_a ,\"es el mayor\")\n",
    "\n",
    "elif numero_b > numero_c and numero_c > numero_a :\n",
    "    print(\"el\",numero_b, \"es el mayor\")\n",
    "else: \n",
    "    print(\"el\", numero_c ,\"es el mayor\")"
   ]
  },
  {
   "cell_type": "code",
   "execution_count": 32,
   "metadata": {},
   "outputs": [
    {
     "name": "stdout",
     "output_type": "stream",
     "text": [
      "Bienvenido anónimo\n"
     ]
    }
   ],
   "source": [
    "#10.Ingresar por teclado un nombre, si la variable nombre, no es nula mostrar por pantalla ‘Bienvenido ‘+ nombre, sino mostrar ‘Bienvenido anónino\n",
    "\n",
    "nombre = input(\"ingrese un nombre\")\n",
    "if nombre != \"\":\n",
    "    print(\"Bienvenido \" + nombre)\n",
    "else:\n",
    "    print(\"Bienvenido anónimo\")"
   ]
  },
  {
   "cell_type": "markdown",
   "metadata": {},
   "source": [
    "CICLOS\n",
    "Actividad N° 2 🤓\n",
    " 1. Imprimir los números del 1 al 20 utilizando un bucle for\n",
    " 2. Imprimir los números pares del 1 al 20 utilizando un bucle while\n",
    " 3. Imprimir los números impares del 1 al 30 utilizando un bucle for \n",
    " 4. Ingresar un número por teclado y mostrar su tabla de multiplicar del 1 al 10.\n",
    " 5. Imprimir los números del 1 al 100, para los múltiplos de 3, imprimir “múltiplo de 3”, para los múltiplos de 5 imprimir “múltiplo de 5” y para los múltiplos de 3 y de 5 imprimir “múltiplo de 3 y 5”.\n",
    " 6. Ingresar un número por teclado e imprimir si es número primo o no. \n",
    " 7. A partir de una lista vacía, utilizar un ciclo while para cargar allí números negativos del-20 al-1 \n",
    " 8. A partir de la variable cadena, mostrar en qué posiciones aparece la letra \"n\" cadena = 'Hola Politécnico. Esto es una práctica programación con Python'\n",
    " 9. Convertir en una lista la variable \"cadena\" del punto 10 y luego recorrerla con un iterador \n",
    " 10.A partir de la siguiente lista de números, crear una lista nueva sólo si el número es divisible por 5  lista1=    [18,25,29,32,35,42,50,60,63,100]\n",
    " 11.Imprimir los números primos del 1 al 100 \n",
    " 12. Imprimir los números del 10 al 1 utilizando un bucle while.\n",
    " 13.Imprimir los números del 1 al 30, no mostrando los que sonmúltiplos de 3.\n",
    " 14.Ingresar una cadena por teclado y contar la cantidad de letras ‘a’ que aparecen en la misma. Imprimir la cadena y la cantidad de ‘a’ que aparecen.\n",
    " 15.dada una lista de marca de vehículos marcas =[‘Ford’,’Renault’,’Peugeot’,’Audi’,’Toyota’], recorrer la lista con un bucle for y en caso de que la marca sea ‘Audi’ salir del"
   ]
  },
  {
   "cell_type": "code",
   "execution_count": 7,
   "metadata": {},
   "outputs": [
    {
     "name": "stdout",
     "output_type": "stream",
     "text": [
      "1\n",
      "2\n",
      "3\n",
      "4\n",
      "5\n",
      "6\n",
      "7\n",
      "8\n",
      "9\n",
      "10\n",
      "11\n",
      "12\n",
      "13\n",
      "14\n",
      "15\n",
      "16\n",
      "17\n",
      "18\n",
      "19\n",
      "20\n"
     ]
    }
   ],
   "source": [
    "#1. Imprimir los números del 1 al 20 utilizando un bucle for\n",
    "for p in range(1,21):\n",
    "    print(p)"
   ]
  },
  {
   "cell_type": "code",
   "execution_count": 40,
   "metadata": {},
   "outputs": [
    {
     "name": "stdout",
     "output_type": "stream",
     "text": [
      "rojo\n",
      "amarillo\n",
      "verde\n",
      "marron\n"
     ]
    }
   ],
   "source": [
    "lista_1 = [\"rojo\",\"amarillo\",\"verde\",\"marron\"]\n",
    "for color in lista_1:\n",
    "    print(color)"
   ]
  },
  {
   "cell_type": "code",
   "execution_count": 48,
   "metadata": {},
   "outputs": [
    {
     "name": "stdout",
     "output_type": "stream",
     "text": [
      "rojo\n",
      "amarillo\n",
      "verde\n",
      "marron\n",
      "negro\n"
     ]
    }
   ],
   "source": [
    "lista_1 = [\"rojo\",\"amarillo\",\"verde\",\"marron\"]\n",
    "lista_1.append(\"negro\")\n",
    "for color in lista_1:\n",
    "    print(color)"
   ]
  },
  {
   "cell_type": "code",
   "execution_count": 52,
   "metadata": {},
   "outputs": [
    {
     "name": "stdout",
     "output_type": "stream",
     "text": [
      "rojo\n",
      "amarillo\n",
      "verde\n",
      "marron\n",
      "verde\n"
     ]
    }
   ],
   "source": [
    "lista_1 = [\"rojo\",\"amarillo\",\"verde\",\"marron\"]\n",
    "t=\"rojo\"\n",
    "for color in lista_1:\n",
    "    print(color)\n",
    "t=\"verde\"\n",
    "print(t)"
   ]
  },
  {
   "cell_type": "code",
   "execution_count": 54,
   "metadata": {},
   "outputs": [
    {
     "name": "stdout",
     "output_type": "stream",
     "text": [
      "6\n"
     ]
    }
   ],
   "source": [
    "lista_2 = [\"rojo\",\"amarillo\",\"verde\",\"marron\",\"gris\",\"negro\"]\n",
    "print(len(lista_2))"
   ]
  },
  {
   "cell_type": "code",
   "execution_count": 56,
   "metadata": {},
   "outputs": [
    {
     "name": "stdout",
     "output_type": "stream",
     "text": [
      "rojo\n",
      "amarillo\n",
      "verde\n"
     ]
    }
   ],
   "source": [
    "for item in range (0,3):\n",
    "    print(lista_2[item])"
   ]
  },
  {
   "cell_type": "code",
   "execution_count": 58,
   "metadata": {},
   "outputs": [
    {
     "name": "stdout",
     "output_type": "stream",
     "text": [
      "El elemento en la posicion 0 de mi lista es : rojo\n",
      "El elemento en la posicion 1 de mi lista es : amarillo\n",
      "El elemento en la posicion 2 de mi lista es : verde\n"
     ]
    }
   ],
   "source": [
    "for item in range (0,3):\n",
    "    print(\"El elemento en la posicion\",item,\"de mi lista es :\",lista_2[item])"
   ]
  },
  {
   "cell_type": "code",
   "execution_count": 61,
   "metadata": {},
   "outputs": [
    {
     "name": "stdout",
     "output_type": "stream",
     "text": [
      "(0, 'rojo')\n",
      "(1, 'amarillo')\n",
      "(2, 'verde')\n",
      "(3, 'marron')\n",
      "(4, 'gris')\n",
      "(5, 'negro')\n"
     ]
    }
   ],
   "source": [
    "#forma para recorrer la lista a traves de su indice\n",
    "for color1 in enumerate (lista_2):\n",
    "    print(color1)"
   ]
  },
  {
   "cell_type": "code",
   "execution_count": 3,
   "metadata": {},
   "outputs": [
    {
     "name": "stdout",
     "output_type": "stream",
     "text": [
      "nombre\n",
      "apellido\n",
      "edad\n",
      "profesion\n"
     ]
    }
   ],
   "source": [
    "#recorrer un dicconario clave valor\n",
    "\n",
    "persona={\"nombre\":\"gonzalo\",\n",
    "         \"apellido\":\"Pimentel\",\n",
    "         \"edad\":44,\n",
    "         \"profesion\":\"lic.en informatica\"}\n",
    "\n",
    "for b in persona.keys():\n",
    "    print(b)\n"
   ]
  },
  {
   "cell_type": "code",
   "execution_count": 13,
   "metadata": {},
   "outputs": [
    {
     "name": "stdout",
     "output_type": "stream",
     "text": [
      "2\n",
      "4\n",
      "6\n",
      "8\n",
      "10\n",
      "12\n",
      "14\n",
      "16\n",
      "18\n",
      "20\n"
     ]
    }
   ],
   "source": [
    "#2. Imprimir los números pares del 1 al 20 utilizando un bucle while\n",
    "i = 1\n",
    "while i < 21 :\n",
    "    if i % 2 == 0:\n",
    "       print(i)\n",
    "    i =i+1\n",
    "\n",
    "\n"
   ]
  },
  {
   "cell_type": "code",
   "execution_count": 14,
   "metadata": {},
   "outputs": [
    {
     "name": "stdout",
     "output_type": "stream",
     "text": [
      "1\n",
      "3\n",
      "5\n",
      "7\n",
      "9\n",
      "11\n",
      "13\n",
      "15\n",
      "17\n",
      "19\n",
      "21\n",
      "23\n",
      "25\n",
      "27\n",
      "29\n"
     ]
    }
   ],
   "source": [
    "#3. Imprimir los números impares del 1 al 30 utilizando un bucle for \n",
    "\n",
    "\n",
    "for n in range(1,31,2):\n",
    "    print(n)\n",
    "\n",
    "\n"
   ]
  },
  {
   "cell_type": "code",
   "execution_count": 17,
   "metadata": {},
   "outputs": [
    {
     "name": "stdout",
     "output_type": "stream",
     "text": [
      "2\n",
      "4\n",
      "6\n",
      "8\n",
      "10\n",
      "12\n",
      "14\n",
      "16\n",
      "18\n",
      "20\n"
     ]
    }
   ],
   "source": [
    "#4. Ingresar un número por teclado y mostrar su tabla de multiplicar del 1 al 10.\n",
    "\n",
    "numero = int(input(\"ingrese un numero\"))\n",
    "for i in range(1, 11):\n",
    "    \n",
    "    print(i*numero)\n",
    "    #print(f\"{numero} x {i} = {numero * i}\")\n",
    "\n"
   ]
  },
  {
   "cell_type": "code",
   "execution_count": 26,
   "metadata": {},
   "outputs": [
    {
     "name": "stdout",
     "output_type": "stream",
     "text": [
      "1 no aplica\n",
      "2 no aplica\n",
      "3 es múltiplo de 3\n",
      "4 no aplica\n",
      "5 es múltiplo de 5\n",
      "6 es múltiplo de 3\n",
      "7 no aplica\n",
      "8 no aplica\n",
      "9 es múltiplo de 3\n",
      "10 es múltiplo de 5\n",
      "11 no aplica\n",
      "12 es múltiplo de 3\n",
      "13 no aplica\n",
      "14 no aplica\n",
      "15 es múltiplo de 3 y 5\n",
      "16 no aplica\n",
      "17 no aplica\n",
      "18 es múltiplo de 3\n",
      "19 no aplica\n",
      "20 es múltiplo de 5\n",
      "21 es múltiplo de 3\n",
      "22 no aplica\n",
      "23 no aplica\n",
      "24 es múltiplo de 3\n",
      "25 es múltiplo de 5\n",
      "26 no aplica\n",
      "27 es múltiplo de 3\n",
      "28 no aplica\n",
      "29 no aplica\n",
      "30 es múltiplo de 3 y 5\n",
      "31 no aplica\n",
      "32 no aplica\n",
      "33 es múltiplo de 3\n",
      "34 no aplica\n",
      "35 es múltiplo de 5\n",
      "36 es múltiplo de 3\n",
      "37 no aplica\n",
      "38 no aplica\n",
      "39 es múltiplo de 3\n",
      "40 es múltiplo de 5\n",
      "41 no aplica\n",
      "42 es múltiplo de 3\n",
      "43 no aplica\n",
      "44 no aplica\n",
      "45 es múltiplo de 3 y 5\n",
      "46 no aplica\n",
      "47 no aplica\n",
      "48 es múltiplo de 3\n",
      "49 no aplica\n",
      "50 es múltiplo de 5\n",
      "51 es múltiplo de 3\n",
      "52 no aplica\n",
      "53 no aplica\n",
      "54 es múltiplo de 3\n",
      "55 es múltiplo de 5\n",
      "56 no aplica\n",
      "57 es múltiplo de 3\n",
      "58 no aplica\n",
      "59 no aplica\n",
      "60 es múltiplo de 3 y 5\n",
      "61 no aplica\n",
      "62 no aplica\n",
      "63 es múltiplo de 3\n",
      "64 no aplica\n",
      "65 es múltiplo de 5\n",
      "66 es múltiplo de 3\n",
      "67 no aplica\n",
      "68 no aplica\n",
      "69 es múltiplo de 3\n",
      "70 es múltiplo de 5\n",
      "71 no aplica\n",
      "72 es múltiplo de 3\n",
      "73 no aplica\n",
      "74 no aplica\n",
      "75 es múltiplo de 3 y 5\n",
      "76 no aplica\n",
      "77 no aplica\n",
      "78 es múltiplo de 3\n",
      "79 no aplica\n",
      "80 es múltiplo de 5\n",
      "81 es múltiplo de 3\n",
      "82 no aplica\n",
      "83 no aplica\n",
      "84 es múltiplo de 3\n",
      "85 es múltiplo de 5\n",
      "86 no aplica\n",
      "87 es múltiplo de 3\n",
      "88 no aplica\n",
      "89 no aplica\n",
      "90 es múltiplo de 3 y 5\n",
      "91 no aplica\n",
      "92 no aplica\n",
      "93 es múltiplo de 3\n",
      "94 no aplica\n",
      "95 es múltiplo de 5\n",
      "96 es múltiplo de 3\n",
      "97 no aplica\n",
      "98 no aplica\n",
      "99 es múltiplo de 3\n",
      "100 es múltiplo de 5\n"
     ]
    }
   ],
   "source": [
    "#5. Imprimir los números del 1 al 100, para los múltiplos de 3, imprimir “múltiplo de 3”, \n",
    "# para los múltiplos de 5 imprimir “múltiplo de 5” y para los múltiplos de 3 \n",
    "# y de 5 imprimir “múltiplo de 3 y 5”.\n",
    "\n",
    "for n in range(1,101):\n",
    "\n",
    "    if n%3 == 0 and n %5 == 0:\n",
    "        print(f\"{n} es múltiplo de 3 y 5\")\n",
    "    elif n %3==0:\n",
    "        print(f\"{n} es múltiplo de 3\")\n",
    "    elif n %5 == 0:\n",
    "        print(f\"{n} es múltiplo de 5\")\n",
    "    \n",
    "    else:\n",
    "        print(f\"{n} no aplica\")\n"
   ]
  },
  {
   "cell_type": "code",
   "execution_count": 42,
   "metadata": {},
   "outputs": [
    {
     "name": "stdout",
     "output_type": "stream",
     "text": [
      " no es numero primo\n"
     ]
    }
   ],
   "source": [
    " #6. Ingresar un número por teclado e imprimir si es número primo o no. \n",
    "\n",
    "num = int(input(\"ingresar un numero\"))\n",
    "contador = 0\n",
    "for i in range (1,num+1):\n",
    "       if num % i == 0:\n",
    "        contador += 1\n",
    "if contador == 2:\n",
    "        print(\" es primo\")\n",
    "else: \n",
    "        print(\" no es numero primo\")"
   ]
  },
  {
   "cell_type": "code",
   "execution_count": null,
   "metadata": {},
   "outputs": [],
   "source": []
  }
 ],
 "metadata": {
  "kernelspec": {
   "display_name": "Python 3",
   "language": "python",
   "name": "python3"
  },
  "language_info": {
   "codemirror_mode": {
    "name": "ipython",
    "version": 3
   },
   "file_extension": ".py",
   "mimetype": "text/x-python",
   "name": "python",
   "nbconvert_exporter": "python",
   "pygments_lexer": "ipython3",
   "version": "3.11.5"
  }
 },
 "nbformat": 4,
 "nbformat_minor": 2
}
