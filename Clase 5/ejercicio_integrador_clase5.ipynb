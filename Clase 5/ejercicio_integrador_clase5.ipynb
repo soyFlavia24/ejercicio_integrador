{
 "cells": [
  {
   "cell_type": "markdown",
   "metadata": {},
   "source": [
    "# Ejercicio: Organización de visitantes en un parque temático\n",
    "\n",
    "Imagina que estás ayudando a un parque temático a organizar las atracciones y los visitantes. Quieren saber cuántos boletos vender, cuántas personas pueden acceder a cada atracción y organizar las filas de manera eficiente. Para eso, te piden que escribas un programa en Python que haga lo siguiente:\n",
    "\n",
    "## Requisitos del programa:\n",
    "\n",
    "1. **Entrada de datos**:\n",
    "   - El programa debe pedir al usuario el número de visitantes totales que van a entrar al parque.\n",
    "   - Para cada visitante, el programa debe pedir la edad y determinar a qué atracciones puede acceder:\n",
    "     - Si tiene menos de 12 años, solo puede acceder a las atracciones para niños.\n",
    "     - Si tiene entre 12 y 18 años, puede acceder tanto a las atracciones para niños como a las de adolescentes.\n",
    "     - Si tiene más de 18 años, puede acceder a todas las atracciones (niños, adolescentes y adultos).\n",
    "\n",
    "2. **Condiciones para acceso a las atracciones**:\n",
    "   - El programa debe preguntar para cada visitante qué tipo de atracción desea:\n",
    "     - \"N\" para niños.\n",
    "     - \"A\" para adolescentes.\n",
    "     - \"D\" para adultos.\n",
    "   - Si el visitante elige una atracción a la que no tiene acceso según su edad, el programa debe mostrar un mensaje indicando que no puede entrar a esa atracción.\n",
    "\n",
    "3. **Organización de filas**:\n",
    "   - El programa debe organizar a los visitantes en tres listas: una para las atracciones de niños, otra para las de adolescentes y otra para las de adultos.\n",
    "   - Al final, el programa debe mostrar cuántos visitantes hay en cada fila.\n",
    "\n",
    "4. **Consideraciones adicionales**:\n",
    "   - Usa bucles para procesar todos los visitantes.\n",
    "   - Utiliza estructuras de datos complejas (listas o diccionarios) para almacenar la información de las filas y visitantes.\n",
    "\n",
    "\n"
   ]
  },
  {
   "cell_type": "code",
   "execution_count": null,
   "metadata": {},
   "outputs": [],
   "source": []
  }
 ],
 "metadata": {
  "kernelspec": {
   "display_name": "Python 3",
   "language": "python",
   "name": "python3"
  },
  "language_info": {
   "name": "python",
   "version": "3.11.5"
  }
 },
 "nbformat": 4,
 "nbformat_minor": 2
}
